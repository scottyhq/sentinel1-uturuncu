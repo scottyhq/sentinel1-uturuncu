{
 "cells": [
  {
   "cell_type": "markdown",
   "metadata": {},
   "source": [
    "# Monitor jobs"
   ]
  },
  {
   "cell_type": "code",
   "execution_count": 1,
   "metadata": {},
   "outputs": [],
   "source": [
    "import boto3\n",
    "batch = boto3.client('batch')\n",
    "jobid = '71e29f77-5b8b-4242-a78b-154dc06d05b9'"
   ]
  },
  {
   "cell_type": "code",
   "execution_count": 2,
   "metadata": {},
   "outputs": [],
   "source": [
    "import pandas as pd\n",
    "df = pd.read_csv('s3://dinosar/processing/uturuncu/A156-EEtest/pairs.txt', names=['s3path'])"
   ]
  },
  {
   "cell_type": "code",
   "execution_count": 3,
   "metadata": {},
   "outputs": [],
   "source": [
    "df['pair'] = df.s3path.str[-21:]"
   ]
  },
  {
   "cell_type": "code",
   "execution_count": 4,
   "metadata": {},
   "outputs": [
    {
     "data": {
      "text/html": [
       "<div>\n",
       "<style scoped>\n",
       "    .dataframe tbody tr th:only-of-type {\n",
       "        vertical-align: middle;\n",
       "    }\n",
       "\n",
       "    .dataframe tbody tr th {\n",
       "        vertical-align: top;\n",
       "    }\n",
       "\n",
       "    .dataframe thead th {\n",
       "        text-align: right;\n",
       "    }\n",
       "</style>\n",
       "<table border=\"1\" class=\"dataframe\">\n",
       "  <thead>\n",
       "    <tr style=\"text-align: right;\">\n",
       "      <th></th>\n",
       "      <th>s3path</th>\n",
       "      <th>pair</th>\n",
       "    </tr>\n",
       "  </thead>\n",
       "  <tbody>\n",
       "    <tr>\n",
       "      <th>0</th>\n",
       "      <td>s3://dinosar/processing/uturuncu/A156-EEtest/i...</td>\n",
       "      <td>int-20191002-20190902</td>\n",
       "    </tr>\n",
       "    <tr>\n",
       "      <th>1</th>\n",
       "      <td>s3://dinosar/processing/uturuncu/A156-EEtest/i...</td>\n",
       "      <td>int-20190902-20190803</td>\n",
       "    </tr>\n",
       "  </tbody>\n",
       "</table>\n",
       "</div>"
      ],
      "text/plain": [
       "                                              s3path                   pair\n",
       "0  s3://dinosar/processing/uturuncu/A156-EEtest/i...  int-20191002-20190902\n",
       "1  s3://dinosar/processing/uturuncu/A156-EEtest/i...  int-20190902-20190803"
      ]
     },
     "execution_count": 4,
     "metadata": {},
     "output_type": "execute_result"
    }
   ],
   "source": [
    "df.head()"
   ]
  },
  {
   "cell_type": "code",
   "execution_count": 5,
   "metadata": {},
   "outputs": [],
   "source": [
    "def get_logid(i, jobid):\n",
    "    metadata = batch.describe_jobs(jobs=[f'{jobid}:{i}'])\n",
    "    logid = metadata['jobs'][0]['container']['logStreamName']\n",
    "    return logid"
   ]
  },
  {
   "cell_type": "code",
   "execution_count": 6,
   "metadata": {},
   "outputs": [],
   "source": [
    "df['logid'] = [get_logid(i,jobid) for i in df.index.values]"
   ]
  },
  {
   "cell_type": "code",
   "execution_count": 7,
   "metadata": {},
   "outputs": [
    {
     "data": {
      "text/html": [
       "<div>\n",
       "<style scoped>\n",
       "    .dataframe tbody tr th:only-of-type {\n",
       "        vertical-align: middle;\n",
       "    }\n",
       "\n",
       "    .dataframe tbody tr th {\n",
       "        vertical-align: top;\n",
       "    }\n",
       "\n",
       "    .dataframe thead th {\n",
       "        text-align: right;\n",
       "    }\n",
       "</style>\n",
       "<table border=\"1\" class=\"dataframe\">\n",
       "  <thead>\n",
       "    <tr style=\"text-align: right;\">\n",
       "      <th></th>\n",
       "      <th>s3path</th>\n",
       "      <th>pair</th>\n",
       "      <th>logid</th>\n",
       "    </tr>\n",
       "  </thead>\n",
       "  <tbody>\n",
       "    <tr>\n",
       "      <th>0</th>\n",
       "      <td>s3://dinosar/processing/uturuncu/A156-EEtest/i...</td>\n",
       "      <td>int-20191002-20190902</td>\n",
       "      <td>uturuncu-array/default/222db44c-3a23-4e78-b558...</td>\n",
       "    </tr>\n",
       "    <tr>\n",
       "      <th>1</th>\n",
       "      <td>s3://dinosar/processing/uturuncu/A156-EEtest/i...</td>\n",
       "      <td>int-20190902-20190803</td>\n",
       "      <td>uturuncu-array/default/226c3b17-04d1-45cb-a849...</td>\n",
       "    </tr>\n",
       "  </tbody>\n",
       "</table>\n",
       "</div>"
      ],
      "text/plain": [
       "                                              s3path                   pair  \\\n",
       "0  s3://dinosar/processing/uturuncu/A156-EEtest/i...  int-20191002-20190902   \n",
       "1  s3://dinosar/processing/uturuncu/A156-EEtest/i...  int-20190902-20190803   \n",
       "\n",
       "                                               logid  \n",
       "0  uturuncu-array/default/222db44c-3a23-4e78-b558...  \n",
       "1  uturuncu-array/default/226c3b17-04d1-45cb-a849...  "
      ]
     },
     "execution_count": 7,
     "metadata": {},
     "output_type": "execute_result"
    }
   ],
   "source": [
    "df"
   ]
  },
  {
   "cell_type": "code",
   "execution_count": 8,
   "metadata": {},
   "outputs": [],
   "source": [
    "def get_logurl(logid, jobid):\n",
    "    logurl = logid.replace('/','$252F')\n",
    "    url = f'https://us-west-2.console.aws.amazon.com/cloudwatch/home?region=us-west-2#logsV2:log-groups/log-group/$252Faws$252Fbatch$252Fjob/log-events/{logurl}'\n",
    "    return url"
   ]
  },
  {
   "cell_type": "code",
   "execution_count": 9,
   "metadata": {},
   "outputs": [
    {
     "data": {
      "text/plain": [
       "'https://us-west-2.console.aws.amazon.com/cloudwatch/home?region=us-west-2#logsV2:log-groups/log-group/$252Faws$252Fbatch$252Fjob/log-events/uturuncu-array$252Fdefault$252F226c3b17-04d1-45cb-a849-a16871f5f801'"
      ]
     },
     "execution_count": 9,
     "metadata": {},
     "output_type": "execute_result"
    }
   ],
   "source": [
    "get_logurl(df.logid[1], jobid)"
   ]
  },
  {
   "cell_type": "code",
   "execution_count": 10,
   "metadata": {},
   "outputs": [],
   "source": [
    "def get_loglink(df, pair):\n",
    "    ''' pass dataframe and pair '''\n",
    "    logid = df[df.pair==pair].logid[0]\n",
    "    logurl = logid.replace('/','$252F')\n",
    "    url = f'https://us-west-2.console.aws.amazon.com/cloudwatch/home?region=us-west-2#logsV2:log-groups/log-group/$252Faws$252Fbatch$252Fjob/log-events/{logurl}'\n",
    "    return url"
   ]
  },
  {
   "cell_type": "code",
   "execution_count": 11,
   "metadata": {},
   "outputs": [
    {
     "data": {
      "text/plain": [
       "'https://us-west-2.console.aws.amazon.com/cloudwatch/home?region=us-west-2#logsV2:log-groups/log-group/$252Faws$252Fbatch$252Fjob/log-events/uturuncu-array$252Fdefault$252F222db44c-3a23-4e78-b558-b5b811ddc892'"
      ]
     },
     "execution_count": 11,
     "metadata": {},
     "output_type": "execute_result"
    }
   ],
   "source": [
    "get_loglink(df, 'int-20191002-20190902')"
   ]
  },
  {
   "cell_type": "code",
   "execution_count": 12,
   "metadata": {},
   "outputs": [],
   "source": [
    "def get_log(logid, n=20):\n",
    "    ''' last n messages from log '''\n",
    "    cloudlogs = boto3.client('logs')\n",
    "    response = cloudlogs.get_log_events(logGroupName='/aws/batch/job', logStreamName=logid)\n",
    "    with open('log.txt', 'w') as f:\n",
    "        lastLines = [e['message'] for e in response['events'][-n:]]\n",
    "        print('\\n'.join(lastLines))"
   ]
  },
  {
   "cell_type": "code",
   "execution_count": 13,
   "metadata": {},
   "outputs": [
    {
     "name": "stdout",
     "output_type": "stream",
     "text": [
      "Child returned 0\n",
      "Child returned 0\n",
      "Child returned 0\n",
      "CWD:  /tmp/tmp.BKcIPYkUS\n",
      "AWS_BATCH_JOB_ID 71e29f77-5b8b-4242-a78b-154dc06d05b9:1\n",
      "AWS_BATCH_JQ_NAME uturuncu-queue\n",
      "AWS_BATCH_JOB_ARRAY_INDEX 1\n",
      "AWS_BATCH_JOB_ATTEMPT 1\n",
      "AWS_BATCH_CE_NAME uturuncu\n",
      "aws s3 sync s3://dinosar/processing/uturuncu/A156-EEtest/int-20190902-20190803 .\n",
      "aws s3 sync s3://dinosar/processing/uturuncu/dem .\n",
      "aria2c -c -x 8 -s 8 -i download-links.txt\n",
      "topsApp.py --steps 2>&1 | tee topsApp.log\n",
      "cp topsApp.xml topsApp.log topsProc.xml download-links.txt merged/\n",
      "aws s3 sync merged s3://dinosar/results/uturuncu/A156-EEtest/int-20190902-20190803\n",
      "Child returned 0\n",
      "Child returned 0\n",
      "aws s3 cp s3://dinosar/processing/uturuncu/A156-EEtest/pairs.txt .\n",
      "Batch index: 1, Processing pair: s3://dinosar/processing/uturuncu/A156-EEtest/int-20190902-20190803\n",
      "/tmp/tmp.BKcIPYkUS/sentinel1-uturuncu-master/fetch_and_run/run_interferogram_aws.py -i s3://dinosar/processing/uturuncu/A156-EEtest/int-20190902-20190803 -d s3://dinosar/processing/uturuncu/dem\n"
     ]
    }
   ],
   "source": [
    "get_log(df.logid[1])"
   ]
  },
  {
   "cell_type": "code",
   "execution_count": null,
   "metadata": {},
   "outputs": [],
   "source": []
  }
 ],
 "metadata": {
  "kernelspec": {
   "display_name": "Python 3",
   "language": "python",
   "name": "python3"
  },
  "language_info": {
   "codemirror_mode": {
    "name": "ipython",
    "version": 3
   },
   "file_extension": ".py",
   "mimetype": "text/x-python",
   "name": "python",
   "nbconvert_exporter": "python",
   "pygments_lexer": "ipython3",
   "version": "3.7.6"
  }
 },
 "nbformat": 4,
 "nbformat_minor": 4
}
