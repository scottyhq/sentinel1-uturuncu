{
 "cells": [
  {
   "cell_type": "markdown",
   "metadata": {},
   "source": [
    "# Use Pandas to select pairs from ASF inventory"
   ]
  },
  {
   "cell_type": "code",
   "execution_count": 3,
   "metadata": {},
   "outputs": [
    {
     "name": "stdout",
     "output_type": "stream",
     "text": [
      "Collecting git+https://github.com/scottyhq/dinosar.git@master\n",
      "  Cloning https://github.com/scottyhq/dinosar.git (to revision master) to /tmp/pip-req-build-qqu8rffq\n",
      "  Running command git clone -q https://github.com/scottyhq/dinosar.git /tmp/pip-req-build-qqu8rffq\n",
      "  Installing build dependencies ... \u001b[?25ldone\n",
      "\u001b[?25h  Getting requirements to build wheel ... \u001b[?25ldone\n",
      "\u001b[?25h    Preparing wheel metadata ... \u001b[?25ldone\n",
      "\u001b[31mERROR: Package 'dinosar' requires a different Python: 3.7.6 not in '>=3.8,<4.0'\u001b[0m\n",
      "\u001b[?25h"
     ]
    }
   ],
   "source": [
    "# if dinosar library not in base environment uncomment below (run just once)\n",
    "!pip install --no-cache git+https://github.com/scottyhq/dinosar.git@master"
   ]
  },
  {
   "cell_type": "code",
   "execution_count": 2,
   "metadata": {},
   "outputs": [],
   "source": [
    "import subprocess\n",
    "import os\n",
    "import dinosar\n",
    "import geopandas as gpd\n",
    "import getpass"
   ]
  },
  {
   "cell_type": "markdown",
   "metadata": {},
   "source": [
    "## update ASF inventory"
   ]
  },
  {
   "cell_type": "code",
   "execution_count": 3,
   "metadata": {},
   "outputs": [],
   "source": [
    "def refresh_inventory(snwe, orbit=76):\n",
    "    dinosar.archive.asf.query_asf(snwe, 'SA', orbit=relOrbit)\n",
    "    dinosar.archive.asf.query_asf(snwe, 'SB', orbit=relOrbit)\n",
    "    gf = dinosar.archive.asf.merge_inventories('query_SA.json', 'query_SB.json')\n",
    "    dinosar.archive.asf.save_inventory(gf)"
   ]
  },
  {
   "cell_type": "code",
   "execution_count": 4,
   "metadata": {},
   "outputs": [
    {
     "name": "stdout",
     "output_type": "stream",
     "text": [
      "Querying ASF Vertex for SA...\n",
      "https://api.daac.asf.alaska.edu/services/search/param?intersectsWith=POLYGON+%28%28-66.5+-23%2C+-66.5+-21.5%2C+-68+-21.5%2C+-68+-23%2C+-66.5+-23%29%29&platform=SA&processingLevel=SLC&beamMode=IW&output=json&relativeOrbit=76\n",
      "Querying ASF Vertex for SB...\n",
      "https://api.daac.asf.alaska.edu/services/search/param?intersectsWith=POLYGON+%28%28-66.5+-23%2C+-66.5+-21.5%2C+-68+-21.5%2C+-68+-23%2C+-66.5+-23%29%29&platform=SB&processingLevel=SLC&beamMode=IW&output=json&relativeOrbit=76\n",
      "Merging S1A and S1B inventories\n",
      "Saved inventory:  query.geojson\n"
     ]
    }
   ],
   "source": [
    "relOrbit = 76\n",
    "snwe = [-23.0, -21.5, -68, -66.5]\n",
    "refresh_inventory(snwe, relOrbit)"
   ]
  },
  {
   "cell_type": "code",
   "execution_count": 5,
   "metadata": {},
   "outputs": [],
   "source": [
    "gf = dinosar.archive.asf.load_inventory('query.geojson')"
   ]
  },
  {
   "cell_type": "code",
   "execution_count": 6,
   "metadata": {},
   "outputs": [],
   "source": [
    "# Useful for exploring data\n",
    "#gf.head()\n",
    "#print(gf.iloc[0].to_string())\n",
    "# See also https://www.earthdatascience.org/courses/use-data-open-source-python/use-time-series-data-in-python/date-time-types-in-pandas-python/subset-time-series-data-python/"
   ]
  },
  {
   "cell_type": "code",
   "execution_count": 7,
   "metadata": {},
   "outputs": [
    {
     "data": {
      "text/html": [
       "<div>\n",
       "<style scoped>\n",
       "    .dataframe tbody tr th:only-of-type {\n",
       "        vertical-align: middle;\n",
       "    }\n",
       "\n",
       "    .dataframe tbody tr th {\n",
       "        vertical-align: top;\n",
       "    }\n",
       "\n",
       "    .dataframe thead th {\n",
       "        text-align: right;\n",
       "    }\n",
       "</style>\n",
       "<table border=\"1\" class=\"dataframe\">\n",
       "  <thead>\n",
       "    <tr style=\"text-align: right;\">\n",
       "      <th></th>\n",
       "      <th>frameNumber</th>\n",
       "      <th>dateStamp</th>\n",
       "      <th>platform</th>\n",
       "    </tr>\n",
       "  </thead>\n",
       "  <tbody>\n",
       "    <tr>\n",
       "      <th>240</th>\n",
       "      <td>1105</td>\n",
       "      <td>2014-11-03</td>\n",
       "      <td>Sentinel-1A</td>\n",
       "    </tr>\n",
       "    <tr>\n",
       "      <th>239</th>\n",
       "      <td>1110</td>\n",
       "      <td>2014-11-03</td>\n",
       "      <td>Sentinel-1A</td>\n",
       "    </tr>\n",
       "    <tr>\n",
       "      <th>237</th>\n",
       "      <td>1110</td>\n",
       "      <td>2014-11-27</td>\n",
       "      <td>Sentinel-1A</td>\n",
       "    </tr>\n",
       "    <tr>\n",
       "      <th>238</th>\n",
       "      <td>1105</td>\n",
       "      <td>2014-11-27</td>\n",
       "      <td>Sentinel-1A</td>\n",
       "    </tr>\n",
       "    <tr>\n",
       "      <th>236</th>\n",
       "      <td>1105</td>\n",
       "      <td>2014-12-21</td>\n",
       "      <td>Sentinel-1A</td>\n",
       "    </tr>\n",
       "  </tbody>\n",
       "</table>\n",
       "</div>"
      ],
      "text/plain": [
       "    frameNumber  dateStamp     platform\n",
       "240        1105 2014-11-03  Sentinel-1A\n",
       "239        1110 2014-11-03  Sentinel-1A\n",
       "237        1110 2014-11-27  Sentinel-1A\n",
       "238        1105 2014-11-27  Sentinel-1A\n",
       "236        1105 2014-12-21  Sentinel-1A"
      ]
     },
     "execution_count": 7,
     "metadata": {},
     "output_type": "execute_result"
    }
   ],
   "source": [
    "# don't care about geometry and other metadata \n",
    "# generally two frames intersect AOI per date:\n",
    "df = gf.loc[:,['frameNumber','dateStamp','platform']].sort_values(by='dateStamp')\n",
    "df.head()"
   ]
  },
  {
   "cell_type": "code",
   "execution_count": 8,
   "metadata": {},
   "outputs": [
    {
     "data": {
      "text/html": [
       "<div>\n",
       "<style scoped>\n",
       "    .dataframe tbody tr th:only-of-type {\n",
       "        vertical-align: middle;\n",
       "    }\n",
       "\n",
       "    .dataframe tbody tr th {\n",
       "        vertical-align: top;\n",
       "    }\n",
       "\n",
       "    .dataframe thead th {\n",
       "        text-align: right;\n",
       "    }\n",
       "</style>\n",
       "<table border=\"1\" class=\"dataframe\">\n",
       "  <thead>\n",
       "    <tr style=\"text-align: right;\">\n",
       "      <th></th>\n",
       "      <th>frameNumber</th>\n",
       "      <th>dateStamp</th>\n",
       "      <th>platform</th>\n",
       "    </tr>\n",
       "    <tr>\n",
       "      <th>dateStamp</th>\n",
       "      <th></th>\n",
       "      <th></th>\n",
       "      <th></th>\n",
       "    </tr>\n",
       "  </thead>\n",
       "  <tbody>\n",
       "    <tr>\n",
       "      <th>2014-11-03</th>\n",
       "      <td>1105</td>\n",
       "      <td>2014-11-03</td>\n",
       "      <td>Sentinel-1A</td>\n",
       "    </tr>\n",
       "    <tr>\n",
       "      <th>2014-11-27</th>\n",
       "      <td>1110</td>\n",
       "      <td>2014-11-27</td>\n",
       "      <td>Sentinel-1A</td>\n",
       "    </tr>\n",
       "    <tr>\n",
       "      <th>2014-12-21</th>\n",
       "      <td>1105</td>\n",
       "      <td>2014-12-21</td>\n",
       "      <td>Sentinel-1A</td>\n",
       "    </tr>\n",
       "    <tr>\n",
       "      <th>2015-01-14</th>\n",
       "      <td>1104</td>\n",
       "      <td>2015-01-14</td>\n",
       "      <td>Sentinel-1A</td>\n",
       "    </tr>\n",
       "    <tr>\n",
       "      <th>2015-02-07</th>\n",
       "      <td>1105</td>\n",
       "      <td>2015-02-07</td>\n",
       "      <td>Sentinel-1A</td>\n",
       "    </tr>\n",
       "  </tbody>\n",
       "</table>\n",
       "</div>"
      ],
      "text/plain": [
       "           frameNumber  dateStamp     platform\n",
       "dateStamp                                     \n",
       "2014-11-03        1105 2014-11-03  Sentinel-1A\n",
       "2014-11-27        1110 2014-11-27  Sentinel-1A\n",
       "2014-12-21        1105 2014-12-21  Sentinel-1A\n",
       "2015-01-14        1104 2015-01-14  Sentinel-1A\n",
       "2015-02-07        1105 2015-02-07  Sentinel-1A"
      ]
     },
     "execution_count": 8,
     "metadata": {},
     "output_type": "execute_result"
    }
   ],
   "source": [
    "# Take only unique dates and set DateTimeIndex\n",
    "df  = df.drop_duplicates('dateStamp').set_index('dateStamp', drop=False)\n",
    "df.head()"
   ]
  },
  {
   "cell_type": "code",
   "execution_count": 9,
   "metadata": {},
   "outputs": [
    {
     "data": {
      "text/html": [
       "<div>\n",
       "<style scoped>\n",
       "    .dataframe tbody tr th:only-of-type {\n",
       "        vertical-align: middle;\n",
       "    }\n",
       "\n",
       "    .dataframe tbody tr th {\n",
       "        vertical-align: top;\n",
       "    }\n",
       "\n",
       "    .dataframe thead th {\n",
       "        text-align: right;\n",
       "    }\n",
       "</style>\n",
       "<table border=\"1\" class=\"dataframe\">\n",
       "  <thead>\n",
       "    <tr style=\"text-align: right;\">\n",
       "      <th></th>\n",
       "      <th>frameNumber</th>\n",
       "      <th>dateStamp</th>\n",
       "      <th>platform</th>\n",
       "    </tr>\n",
       "    <tr>\n",
       "      <th>dateStamp</th>\n",
       "      <th></th>\n",
       "      <th></th>\n",
       "      <th></th>\n",
       "    </tr>\n",
       "  </thead>\n",
       "  <tbody>\n",
       "    <tr>\n",
       "      <th>2019-12-31</th>\n",
       "      <td>1105</td>\n",
       "      <td>2019-06-04</td>\n",
       "      <td>Sentinel-1B</td>\n",
       "    </tr>\n",
       "    <tr>\n",
       "      <th>2018-12-31</th>\n",
       "      <td>1101</td>\n",
       "      <td>2018-06-03</td>\n",
       "      <td>Sentinel-1A</td>\n",
       "    </tr>\n",
       "    <tr>\n",
       "      <th>2017-12-31</th>\n",
       "      <td>1101</td>\n",
       "      <td>2017-06-02</td>\n",
       "      <td>Sentinel-1B</td>\n",
       "    </tr>\n",
       "    <tr>\n",
       "      <th>2016-12-31</th>\n",
       "      <td>1106</td>\n",
       "      <td>2016-06-13</td>\n",
       "      <td>Sentinel-1A</td>\n",
       "    </tr>\n",
       "    <tr>\n",
       "      <th>2015-12-31</th>\n",
       "      <td>1105</td>\n",
       "      <td>2015-06-19</td>\n",
       "      <td>Sentinel-1A</td>\n",
       "    </tr>\n",
       "  </tbody>\n",
       "</table>\n",
       "</div>"
      ],
      "text/plain": [
       "           frameNumber  dateStamp     platform\n",
       "dateStamp                                     \n",
       "2019-12-31        1105 2019-06-04  Sentinel-1B\n",
       "2018-12-31        1101 2018-06-03  Sentinel-1A\n",
       "2017-12-31        1101 2017-06-02  Sentinel-1B\n",
       "2016-12-31        1106 2016-06-13  Sentinel-1A\n",
       "2015-12-31        1105 2015-06-19  Sentinel-1A"
      ]
     },
     "execution_count": 9,
     "metadata": {},
     "output_type": "execute_result"
    }
   ],
   "source": [
    "# First date in june of every year\n",
    "df[df.index.month == 6].resample('Y').first().sort_index(ascending=False)"
   ]
  },
  {
   "cell_type": "markdown",
   "metadata": {},
   "source": [
    "## pairs between june acquistions every year"
   ]
  },
  {
   "cell_type": "code",
   "execution_count": 11,
   "metadata": {},
   "outputs": [],
   "source": [
    "def dates_to_pairs(dates):\n",
    "    pairs = []\n",
    "    for i in range(len(dates)-1):\n",
    "        master = dates[i]\n",
    "        second = dates[i+1]\n",
    "        intdir = 'int-{0}-{1}'.format(master, second)\n",
    "        pairs.append(intdir)\n",
    "    \n",
    "    return pairs"
   ]
  },
  {
   "cell_type": "code",
   "execution_count": 12,
   "metadata": {},
   "outputs": [],
   "source": [
    "def one_per_june(df):\n",
    "    # Single date per month\n",
    "    tmp = df[df.index.month == 6].resample('Y').first()\n",
    "    tmp1 = tmp.sort_index(ascending=False)\n",
    "    dates = tmp1.dateStamp.apply(lambda x: x.strftime('%Y%m%d')).to_list()\n",
    "    pairs = dates_to_pairs(dates)\n",
    "    \n",
    "    return pairs"
   ]
  },
  {
   "cell_type": "code",
   "execution_count": 13,
   "metadata": {},
   "outputs": [
    {
     "name": "stdout",
     "output_type": "stream",
     "text": [
      "4 Interferograms to generate:\n"
     ]
    },
    {
     "data": {
      "text/plain": [
       "['int-20190604-20180603',\n",
       " 'int-20180603-20170602',\n",
       " 'int-20170602-20160613',\n",
       " 'int-20160613-20150619']"
      ]
     },
     "execution_count": 13,
     "metadata": {},
     "output_type": "execute_result"
    }
   ],
   "source": [
    "pairs = one_per_june(df)\n",
    "print(f'{len(pairs)} Interferograms to generate:')\n",
    "pairs"
   ]
  },
  {
   "cell_type": "markdown",
   "metadata": {},
   "source": [
    "## one acquistion from every month"
   ]
  },
  {
   "cell_type": "code",
   "execution_count": 14,
   "metadata": {},
   "outputs": [],
   "source": [
    "def one_per_month(df):\n",
    "    # Single date per month\n",
    "    tmp = df.resample('M').first()\n",
    "    tmp1 = tmp.sort_index(ascending=False)\n",
    "    dates = tmp1.dateStamp.apply(lambda x: x.strftime('%Y%m%d')).to_list()\n",
    "    pairs = dates_to_pairs(dates)\n",
    "    \n",
    "    return pairs"
   ]
  },
  {
   "cell_type": "code",
   "execution_count": 15,
   "metadata": {},
   "outputs": [
    {
     "name": "stdout",
     "output_type": "stream",
     "text": [
      "66 Interferograms to generate:\n"
     ]
    },
    {
     "data": {
      "text/plain": [
       "['int-20200505-20200405',\n",
       " 'int-20200405-20200306',\n",
       " 'int-20200306-20200205',\n",
       " 'int-20200205-20200106',\n",
       " 'int-20200106-20191201',\n",
       " 'int-20191201-20191101',\n",
       " 'int-20191101-20191002',\n",
       " 'int-20191002-20190902',\n",
       " 'int-20190902-20190803',\n",
       " 'int-20190803-20190704',\n",
       " 'int-20190704-20190604',\n",
       " 'int-20190604-20190505',\n",
       " 'int-20190505-20190405',\n",
       " 'int-20190405-20190306',\n",
       " 'int-20190306-20190210',\n",
       " 'int-20190210-20190105',\n",
       " 'int-20190105-20181206',\n",
       " 'int-20181206-20181106',\n",
       " 'int-20181106-20181001',\n",
       " 'int-20181001-20180907',\n",
       " 'int-20180907-20180802',\n",
       " 'int-20180802-20180703',\n",
       " 'int-20180703-20180603',\n",
       " 'int-20180603-20180504',\n",
       " 'int-20180504-20180404',\n",
       " 'int-20180404-20180305',\n",
       " 'int-20180305-20180209',\n",
       " 'int-20180209-20180104',\n",
       " 'int-20180104-20171211',\n",
       " 'int-20171211-20171105',\n",
       " 'int-20171105-20171012',\n",
       " 'int-20171012-20170906',\n",
       " 'int-20170906-20170801',\n",
       " 'int-20170801-20170708',\n",
       " 'int-20170708-20170602',\n",
       " 'int-20170602-20170509',\n",
       " 'int-20170509-20170415',\n",
       " 'int-20170415-20170304',\n",
       " 'int-20170304-20170214',\n",
       " 'int-20170214-20170115',\n",
       " 'int-20170115-20161204',\n",
       " 'int-20161204-20161104',\n",
       " 'int-20161104-20161011',\n",
       " 'int-20161011-20160917',\n",
       " 'int-20160917-20160824',\n",
       " 'int-20160824-20160731',\n",
       " 'int-20160731-20160613',\n",
       " 'int-20160613-20160520',\n",
       " 'int-20160520-20160402',\n",
       " 'int-20160402-20160309',\n",
       " 'int-20160309-20160214',\n",
       " 'int-20160214-20160121',\n",
       " 'int-20160121-20151228',\n",
       " 'int-20151228-20151110',\n",
       " 'int-20151110-20151017',\n",
       " 'int-20151017-20150923',\n",
       " 'int-20150923-20150806',\n",
       " 'int-20150806-20150713',\n",
       " 'int-20150713-20150619',\n",
       " 'int-20150619-20150502',\n",
       " 'int-20150502-20150408',\n",
       " 'int-20150408-20150315',\n",
       " 'int-20150315-20150207',\n",
       " 'int-20150207-20150114',\n",
       " 'int-20150114-20141221',\n",
       " 'int-20141221-20141103']"
      ]
     },
     "execution_count": 15,
     "metadata": {},
     "output_type": "execute_result"
    }
   ],
   "source": [
    "pairs = one_per_month(df)\n",
    "print(f'{len(pairs)} Interferograms to generate:')\n",
    "pairs"
   ]
  }
 ],
 "metadata": {
  "kernelspec": {
   "display_name": "Python 3",
   "language": "python",
   "name": "python3"
  },
  "language_info": {
   "codemirror_mode": {
    "name": "ipython",
    "version": 3
   },
   "file_extension": ".py",
   "mimetype": "text/x-python",
   "name": "python",
   "nbconvert_exporter": "python",
   "pygments_lexer": "ipython3",
   "version": "3.7.6"
  }
 },
 "nbformat": 4,
 "nbformat_minor": 4
}
